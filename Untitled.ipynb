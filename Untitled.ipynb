{
 "cells": [
  {
   "cell_type": "code",
   "execution_count": 13,
   "metadata": {
    "collapsed": false
   },
   "outputs": [
    {
     "name": "stdout",
     "output_type": "stream",
     "text": [
      "Overwriting bin\\TestClass.java\n"
     ]
    }
   ],
   "source": [
    "%%file bin\\TestClass.java\n",
    "\n",
    "class TestClass {\n",
    "\n",
    "    public static void main(String [] args) {\n",
    "        System.out.println(\"Hello, world!\");\n",
    "    }\n",
    "\n",
    "}"
   ]
  },
  {
   "cell_type": "code",
   "execution_count": 14,
   "metadata": {
    "collapsed": false,
    "scrolled": true
   },
   "outputs": [
    {
     "name": "stdout",
     "output_type": "stream",
     "text": [
      "Microsoft Windows [Version 10.0.14393]\r\n",
      "(c) 2016 Microsoft Corporation. All rights reserved.\r\n",
      "\r\n",
      "C:\\Users\\chick\\IdeaProjects\\cs 601\\java-snippet-review>\n",
      "C:\\Users\\chick\\IdeaProjects\\cs 601\\java-snippet-review>cd bin\n",
      "\r\n",
      "C:\\Users\\chick\\IdeaProjects\\cs 601\\java-snippet-review\\bin>javac TestClass.java\n",
      "\r\n",
      "C:\\Users\\chick\\IdeaProjects\\cs 601\\java-snippet-review\\bin>java TestClass\n",
      "Hello, world!\r\n",
      "\r\n",
      "C:\\Users\\chick\\IdeaProjects\\cs 601\\java-snippet-review\\bin>"
     ]
    }
   ],
   "source": [
    "%%cmd\n",
    "\n",
    "cd bin\n",
    "javac TestClass.java\n",
    "java TestClass"
   ]
  },
  {
   "cell_type": "code",
   "execution_count": null,
   "metadata": {
    "collapsed": true
   },
   "outputs": [],
   "source": []
  }
 ],
 "metadata": {
  "kernelspec": {
   "display_name": "Python 3",
   "language": "python",
   "name": "python3"
  },
  "language_info": {
   "codemirror_mode": {
    "name": "ipython",
    "version": 3
   },
   "file_extension": ".py",
   "mimetype": "text/x-python",
   "name": "python",
   "nbconvert_exporter": "python",
   "pygments_lexer": "ipython3",
   "version": "3.5.1"
  }
 },
 "nbformat": 4,
 "nbformat_minor": 1
}
