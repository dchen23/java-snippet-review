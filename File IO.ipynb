{
 "cells": [
  {
   "cell_type": "markdown",
   "metadata": {},
   "source": [
    "# Code Snippet - File IO"
   ]
  },
  {
   "cell_type": "markdown",
   "metadata": {
    "slideshow": {
     "slide_type": "-"
    }
   },
   "source": [
    "#### read file from absolute path given in `String` type  "
   ]
  },
  {
   "cell_type": "code",
   "execution_count": 26,
   "metadata": {
    "collapsed": false,
    "slideshow": {
     "slide_type": "-"
    }
   },
   "outputs": [
    {
     "name": "stdout",
     "output_type": "stream",
     "text": [
      "Writing bin\\CodeSnippet.java\n"
     ]
    }
   ],
   "source": [
    "%%file bin\\CodeSnippet.java\n",
    "\n",
    "import java.io.BufferedReader;\n",
    "import java.io.FileReader;\n",
    "import java.io.FileNotFoundException;\n",
    "import java.io.IOException;\n",
    "\n",
    "public class CodeSnippet {\n",
    "    public static void main (String[] args) {\n",
    "        try {\n",
    "            // read file content from file path given in `String` type\n",
    "            StringBuffer sb = new StringBuffer();\n",
    "            BufferedReader br = new BufferedReader(new FileReader(\"test.txt\"));\n",
    "            \n",
    "            String line;\n",
    "            while((line = br.readLine()) != null) {\n",
    "                sb.append(line);\n",
    "            }\n",
    "            System.out.println(sb.toString());\n",
    "        } catch (FileNotFoundException e) {\n",
    "            e.printStackTrace();\n",
    "        } catch (IOException e) {\n",
    "            e.printStackTrace();\n",
    "        }\n",
    "    }\n",
    "}"
   ]
  },
  {
   "cell_type": "code",
   "execution_count": 27,
   "metadata": {
    "collapsed": false,
    "scrolled": true
   },
   "outputs": [
    {
     "name": "stdout",
     "output_type": "stream",
     "text": [
      "Microsoft Windows [Version 10.0.14393]\r\n",
      "(c) 2016 Microsoft Corporation. All rights reserved.\r\n",
      "\r\n",
      "C:\\Users\\chick\\IdeaProjects\\cs 601\\java-snippet-review>cd bin\n",
      "\r\n",
      "C:\\Users\\chick\\IdeaProjects\\cs 601\\java-snippet-review\\bin>javac CodeSnippet.java\n",
      "\r\n",
      "C:\\Users\\chick\\IdeaProjects\\cs 601\\java-snippet-review\\bin>java CodeSnippet\n",
      "Oh, my lab3 part2 T^T\r\n",
      "\r\n",
      "C:\\Users\\chick\\IdeaProjects\\cs 601\\java-snippet-review\\bin>"
     ]
    }
   ],
   "source": [
    "%%cmd\n",
    "cd bin\n",
    "javac CodeSnippet.java\n",
    "java CodeSnippet"
   ]
  }
 ],
 "metadata": {
  "kernelspec": {
   "display_name": "Python 3",
   "language": "python",
   "name": "python3"
  },
  "language_info": {
   "codemirror_mode": {
    "name": "ipython",
    "version": 3
   },
   "file_extension": ".py",
   "mimetype": "text/x-python",
   "name": "python",
   "nbconvert_exporter": "python",
   "pygments_lexer": "ipython3",
   "version": "3.5.1"
  }
 },
 "nbformat": 4,
 "nbformat_minor": 1
}
